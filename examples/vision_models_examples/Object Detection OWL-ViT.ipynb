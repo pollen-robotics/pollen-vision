{
 "cells": [
  {
   "cell_type": "markdown",
   "id": "9052f047-0ed1-435f-9ab8-b37b5c22558f",
   "metadata": {},
   "source": [
    "# Perform object detection with pollen-vision\n",
    "\n",
    "Learn how to perform zero shot object detection with the pollen-vision library, using the OWL-ViT model.\n",
    "\n",
    "This notebook will show you how to use our wrapper for the OWL-ViT object detection model developed by the Google Research lab. "
   ]
  },
  {
   "cell_type": "markdown",
   "id": "915566f0-7009-4f03-899c-92491831aad8",
   "metadata": {},
   "source": [
    "![Gif Object detection from Reachy's egocentric view](https://media.githubusercontent.com/media/pollen-robotics/pollen-vision/develop/examples/vision_models_examples/gif/reachy_kitchen_detection.gif)"
   ]
  },
  {
   "cell_type": "markdown",
   "id": "d11993d6-d4d2-4991-b9aa-1210d6c5141d",
   "metadata": {},
   "source": [
    "## A word on OWL-ViT\n",
    "OWL-ViT stands for Vision Transformer for Open-World Localization. It is a zero shot object detection model, meaning the model is able to perform object detection based on text queries, without needing to retrain the model on any labeled data, as it is the case with traditional Deep Learning object detection models.\n",
    "\n",
    "You can find more information on the model on the dedicated page of the [Hugging Face documentation](https://huggingface.co/docs/transformers/model_doc/owlvit). The implementation of the wrapper actually uses Hugging Face's [transformers library](https://huggingface.co/docs/transformers/index)."
   ]
  },
  {
   "cell_type": "markdown",
   "id": "16d58e8a",
   "metadata": {
    "jp-MarkdownHeadingCollapsed": true
   },
   "source": [
    "## Setup environment\n",
    "\n",
    "> Note: If you are working locally on your machine and have already installed the library from source, discard the following.\n",
    "\n",
    "We need to first install the pollen-vision library. We will install the library from source, this might take a couple of minutes as there are quite heavy dependencies."
   ]
  },
  {
   "cell_type": "code",
   "execution_count": null,
   "id": "0562c4c2",
   "metadata": {},
   "outputs": [
    {
     "name": "stdout",
     "output_type": "stream",
     "text": [
      "Collecting tokenizers!=0.11.3,<0.14,>=0.11.1 (from transformers==4.25.1->ram@ git+https://github.com/pollen-robotics/recognize-anything->pollen-vision@ git+https://github.com/pollen-robotics/pollen-vision.git@99-make-the-notebooks-runnable-on-google-colab->pollen-vision[vision]@ git+https://github.com/pollen-robotics/pollen-vision.git@99-make-the-notebooks-runnable-on-google-colab)\n",
      "  Using cached tokenizers-0.13.3-cp310-cp310-manylinux_2_17_x86_64.manylinux2014_x86_64.whl.metadata (6.7 kB)\n",
      "Collecting idna>=2.8 (from anyio<5,>=3.5.0->openai==1.12.0->pollen-vision@ git+https://github.com/pollen-robotics/pollen-vision.git@99-make-the-notebooks-runnable-on-google-colab->pollen-vision[vision]@ git+https://github.com/pollen-robotics/pollen-vision.git@99-make-the-notebooks-runnable-on-google-colab)\n",
      "  Using cached idna-3.6-py3-none-any.whl.metadata (9.9 kB)\n",
      "Collecting exceptiongroup>=1.0.2 (from anyio<5,>=3.5.0->openai==1.12.0->pollen-vision@ git+https://github.com/pollen-robotics/pollen-vision.git@99-make-the-notebooks-runnable-on-google-colab->pollen-vision[vision]@ git+https://github.com/pollen-robotics/pollen-vision.git@99-make-the-notebooks-runnable-on-google-colab)\n",
      "  Using cached exceptiongroup-1.2.0-py3-none-any.whl.metadata (6.6 kB)\n",
      "Collecting aiosignal>=1.1.2 (from aiohttp->datasets==2.18.0->pollen-vision@ git+https://github.com/pollen-robotics/pollen-vision.git@99-make-the-notebooks-runnable-on-google-colab->pollen-vision[vision]@ git+https://github.com/pollen-robotics/pollen-vision.git@99-make-the-notebooks-runnable-on-google-colab)\n",
      "  Using cached aiosignal-1.3.1-py3-none-any.whl.metadata (4.0 kB)\n",
      "Collecting attrs>=17.3.0 (from aiohttp->datasets==2.18.0->pollen-vision@ git+https://github.com/pollen-robotics/pollen-vision.git@99-make-the-notebooks-runnable-on-google-colab->pollen-vision[vision]@ git+https://github.com/pollen-robotics/pollen-vision.git@99-make-the-notebooks-runnable-on-google-colab)\n",
      "  Using cached attrs-23.2.0-py3-none-any.whl.metadata (9.5 kB)\n",
      "Collecting frozenlist>=1.1.1 (from aiohttp->datasets==2.18.0->pollen-vision@ git+https://github.com/pollen-robotics/pollen-vision.git@99-make-the-notebooks-runnable-on-google-colab->pollen-vision[vision]@ git+https://github.com/pollen-robotics/pollen-vision.git@99-make-the-notebooks-runnable-on-google-colab)\n",
      "  Using cached frozenlist-1.4.1-cp310-cp310-manylinux_2_5_x86_64.manylinux1_x86_64.manylinux_2_17_x86_64.manylinux2014_x86_64.whl.metadata (12 kB)\n",
      "Collecting multidict<7.0,>=4.5 (from aiohttp->datasets==2.18.0->pollen-vision@ git+https://github.com/pollen-robotics/pollen-vision.git@99-make-the-notebooks-runnable-on-google-colab->pollen-vision[vision]@ git+https://github.com/pollen-robotics/pollen-vision.git@99-make-the-notebooks-runnable-on-google-colab)\n",
      "  Using cached multidict-6.0.5-cp310-cp310-manylinux_2_17_x86_64.manylinux2014_x86_64.whl.metadata (4.2 kB)\n",
      "Collecting yarl<2.0,>=1.0 (from aiohttp->datasets==2.18.0->pollen-vision@ git+https://github.com/pollen-robotics/pollen-vision.git@99-make-the-notebooks-runnable-on-google-colab->pollen-vision[vision]@ git+https://github.com/pollen-robotics/pollen-vision.git@99-make-the-notebooks-runnable-on-google-colab)\n",
      "  Using cached yarl-1.9.4-cp310-cp310-manylinux_2_17_x86_64.manylinux2014_x86_64.whl.metadata (31 kB)\n",
      "Collecting async-timeout<5.0,>=4.0 (from aiohttp->datasets==2.18.0->pollen-vision@ git+https://github.com/pollen-robotics/pollen-vision.git@99-make-the-notebooks-runnable-on-google-colab->pollen-vision[vision]@ git+https://github.com/pollen-robotics/pollen-vision.git@99-make-the-notebooks-runnable-on-google-colab)\n",
      "  Using cached async_timeout-4.0.3-py3-none-any.whl.metadata (4.2 kB)\n",
      "Collecting certifi (from httpx<1,>=0.23.0->openai==1.12.0->pollen-vision@ git+https://github.com/pollen-robotics/pollen-vision.git@99-make-the-notebooks-runnable-on-google-colab->pollen-vision[vision]@ git+https://github.com/pollen-robotics/pollen-vision.git@99-make-the-notebooks-runnable-on-google-colab)\n",
      "  Using cached certifi-2024.2.2-py3-none-any.whl.metadata (2.2 kB)\n",
      "Collecting httpcore==1.* (from httpx<1,>=0.23.0->openai==1.12.0->pollen-vision@ git+https://github.com/pollen-robotics/pollen-vision.git@99-make-the-notebooks-runnable-on-google-colab->pollen-vision[vision]@ git+https://github.com/pollen-robotics/pollen-vision.git@99-make-the-notebooks-runnable-on-google-colab)\n",
      "  Using cached httpcore-1.0.4-py3-none-any.whl.metadata (20 kB)\n",
      "Collecting h11<0.15,>=0.13 (from httpcore==1.*->httpx<1,>=0.23.0->openai==1.12.0->pollen-vision@ git+https://github.com/pollen-robotics/pollen-vision.git@99-make-the-notebooks-runnable-on-google-colab->pollen-vision[vision]@ git+https://github.com/pollen-robotics/pollen-vision.git@99-make-the-notebooks-runnable-on-google-colab)\n",
      "  Using cached h11-0.14.0-py3-none-any.whl.metadata (8.2 kB)\n",
      "Collecting annotated-types>=0.4.0 (from pydantic<3,>=1.9.0->openai==1.12.0->pollen-vision@ git+https://github.com/pollen-robotics/pollen-vision.git@99-make-the-notebooks-runnable-on-google-colab->pollen-vision[vision]@ git+https://github.com/pollen-robotics/pollen-vision.git@99-make-the-notebooks-runnable-on-google-colab)\n",
      "  Using cached annotated_types-0.6.0-py3-none-any.whl.metadata (12 kB)\n",
      "Collecting pydantic-core==2.16.3 (from pydantic<3,>=1.9.0->openai==1.12.0->pollen-vision@ git+https://github.com/pollen-robotics/pollen-vision.git@99-make-the-notebooks-runnable-on-google-colab->pollen-vision[vision]@ git+https://github.com/pollen-robotics/pollen-vision.git@99-make-the-notebooks-runnable-on-google-colab)\n",
      "  Using cached pydantic_core-2.16.3-cp310-cp310-manylinux_2_17_x86_64.manylinux2014_x86_64.whl.metadata (6.5 kB)\n",
      "Collecting charset-normalizer<4,>=2 (from requests>=2.19.0->datasets==2.18.0->pollen-vision@ git+https://github.com/pollen-robotics/pollen-vision.git@99-make-the-notebooks-runnable-on-google-colab->pollen-vision[vision]@ git+https://github.com/pollen-robotics/pollen-vision.git@99-make-the-notebooks-runnable-on-google-colab)\n",
      "  Using cached charset_normalizer-3.3.2-cp310-cp310-manylinux_2_17_x86_64.manylinux2014_x86_64.whl.metadata (33 kB)\n",
      "Collecting urllib3<3,>=1.21.1 (from requests>=2.19.0->datasets==2.18.0->pollen-vision@ git+https://github.com/pollen-robotics/pollen-vision.git@99-make-the-notebooks-runnable-on-google-colab->pollen-vision[vision]@ git+https://github.com/pollen-robotics/pollen-vision.git@99-make-the-notebooks-runnable-on-google-colab)\n",
      "  Using cached urllib3-2.2.1-py3-none-any.whl.metadata (6.4 kB)\n",
      "Collecting sympy (from torch->ram@ git+https://github.com/pollen-robotics/recognize-anything->pollen-vision@ git+https://github.com/pollen-robotics/pollen-vision.git@99-make-the-notebooks-runnable-on-google-colab->pollen-vision[vision]@ git+https://github.com/pollen-robotics/pollen-vision.git@99-make-the-notebooks-runnable-on-google-colab)\n",
      "  Using cached sympy-1.12-py3-none-any.whl.metadata (12 kB)\n",
      "Collecting networkx (from torch->ram@ git+https://github.com/pollen-robotics/recognize-anything->pollen-vision@ git+https://github.com/pollen-robotics/pollen-vision.git@99-make-the-notebooks-runnable-on-google-colab->pollen-vision[vision]@ git+https://github.com/pollen-robotics/pollen-vision.git@99-make-the-notebooks-runnable-on-google-colab)\n",
      "  Using cached networkx-3.2.1-py3-none-any.whl.metadata (5.2 kB)\n",
      "Collecting jinja2 (from torch->ram@ git+https://github.com/pollen-robotics/recognize-anything->pollen-vision@ git+https://github.com/pollen-robotics/pollen-vision.git@99-make-the-notebooks-runnable-on-google-colab->pollen-vision[vision]@ git+https://github.com/pollen-robotics/pollen-vision.git@99-make-the-notebooks-runnable-on-google-colab)\n",
      "  Using cached Jinja2-3.1.3-py3-none-any.whl.metadata (3.3 kB)\n",
      "Collecting nvidia-cuda-nvrtc-cu12==12.1.105 (from torch->ram@ git+https://github.com/pollen-robotics/recognize-anything->pollen-vision@ git+https://github.com/pollen-robotics/pollen-vision.git@99-make-the-notebooks-runnable-on-google-colab->pollen-vision[vision]@ git+https://github.com/pollen-robotics/pollen-vision.git@99-make-the-notebooks-runnable-on-google-colab)\n",
      "  Using cached nvidia_cuda_nvrtc_cu12-12.1.105-py3-none-manylinux1_x86_64.whl.metadata (1.5 kB)\n",
      "Collecting nvidia-cuda-runtime-cu12==12.1.105 (from torch->ram@ git+https://github.com/pollen-robotics/recognize-anything->pollen-vision@ git+https://github.com/pollen-robotics/pollen-vision.git@99-make-the-notebooks-runnable-on-google-colab->pollen-vision[vision]@ git+https://github.com/pollen-robotics/pollen-vision.git@99-make-the-notebooks-runnable-on-google-colab)\n",
      "  Using cached nvidia_cuda_runtime_cu12-12.1.105-py3-none-manylinux1_x86_64.whl.metadata (1.5 kB)\n"
     ]
    },
    {
     "name": "stdout",
     "output_type": "stream",
     "text": [
      "Collecting nvidia-cuda-cupti-cu12==12.1.105 (from torch->ram@ git+https://github.com/pollen-robotics/recognize-anything->pollen-vision@ git+https://github.com/pollen-robotics/pollen-vision.git@99-make-the-notebooks-runnable-on-google-colab->pollen-vision[vision]@ git+https://github.com/pollen-robotics/pollen-vision.git@99-make-the-notebooks-runnable-on-google-colab)\n",
      "  Using cached nvidia_cuda_cupti_cu12-12.1.105-py3-none-manylinux1_x86_64.whl.metadata (1.6 kB)\n",
      "Collecting nvidia-cudnn-cu12==8.9.2.26 (from torch->ram@ git+https://github.com/pollen-robotics/recognize-anything->pollen-vision@ git+https://github.com/pollen-robotics/pollen-vision.git@99-make-the-notebooks-runnable-on-google-colab->pollen-vision[vision]@ git+https://github.com/pollen-robotics/pollen-vision.git@99-make-the-notebooks-runnable-on-google-colab)\n",
      "  Using cached nvidia_cudnn_cu12-8.9.2.26-py3-none-manylinux1_x86_64.whl.metadata (1.6 kB)\n",
      "Collecting nvidia-cublas-cu12==12.1.3.1 (from torch->ram@ git+https://github.com/pollen-robotics/recognize-anything->pollen-vision@ git+https://github.com/pollen-robotics/pollen-vision.git@99-make-the-notebooks-runnable-on-google-colab->pollen-vision[vision]@ git+https://github.com/pollen-robotics/pollen-vision.git@99-make-the-notebooks-runnable-on-google-colab)\n",
      "  Using cached nvidia_cublas_cu12-12.1.3.1-py3-none-manylinux1_x86_64.whl.metadata (1.5 kB)\n",
      "Collecting nvidia-cufft-cu12==11.0.2.54 (from torch->ram@ git+https://github.com/pollen-robotics/recognize-anything->pollen-vision@ git+https://github.com/pollen-robotics/pollen-vision.git@99-make-the-notebooks-runnable-on-google-colab->pollen-vision[vision]@ git+https://github.com/pollen-robotics/pollen-vision.git@99-make-the-notebooks-runnable-on-google-colab)\n",
      "  Using cached nvidia_cufft_cu12-11.0.2.54-py3-none-manylinux1_x86_64.whl.metadata (1.5 kB)\n",
      "Collecting nvidia-curand-cu12==10.3.2.106 (from torch->ram@ git+https://github.com/pollen-robotics/recognize-anything->pollen-vision@ git+https://github.com/pollen-robotics/pollen-vision.git@99-make-the-notebooks-runnable-on-google-colab->pollen-vision[vision]@ git+https://github.com/pollen-robotics/pollen-vision.git@99-make-the-notebooks-runnable-on-google-colab)\n",
      "  Using cached nvidia_curand_cu12-10.3.2.106-py3-none-manylinux1_x86_64.whl.metadata (1.5 kB)\n",
      "Collecting nvidia-cusolver-cu12==11.4.5.107 (from torch->ram@ git+https://github.com/pollen-robotics/recognize-anything->pollen-vision@ git+https://github.com/pollen-robotics/pollen-vision.git@99-make-the-notebooks-runnable-on-google-colab->pollen-vision[vision]@ git+https://github.com/pollen-robotics/pollen-vision.git@99-make-the-notebooks-runnable-on-google-colab)\n",
      "  Using cached nvidia_cusolver_cu12-11.4.5.107-py3-none-manylinux1_x86_64.whl.metadata (1.6 kB)\n",
      "Collecting nvidia-cusparse-cu12==12.1.0.106 (from torch->ram@ git+https://github.com/pollen-robotics/recognize-anything->pollen-vision@ git+https://github.com/pollen-robotics/pollen-vision.git@99-make-the-notebooks-runnable-on-google-colab->pollen-vision[vision]@ git+https://github.com/pollen-robotics/pollen-vision.git@99-make-the-notebooks-runnable-on-google-colab)\n",
      "  Using cached nvidia_cusparse_cu12-12.1.0.106-py3-none-manylinux1_x86_64.whl.metadata (1.6 kB)\n",
      "Collecting nvidia-nccl-cu12==2.19.3 (from torch->ram@ git+https://github.com/pollen-robotics/recognize-anything->pollen-vision@ git+https://github.com/pollen-robotics/pollen-vision.git@99-make-the-notebooks-runnable-on-google-colab->pollen-vision[vision]@ git+https://github.com/pollen-robotics/pollen-vision.git@99-make-the-notebooks-runnable-on-google-colab)\n",
      "  Using cached nvidia_nccl_cu12-2.19.3-py3-none-manylinux1_x86_64.whl.metadata (1.8 kB)\n",
      "Collecting nvidia-nvtx-cu12==12.1.105 (from torch->ram@ git+https://github.com/pollen-robotics/recognize-anything->pollen-vision@ git+https://github.com/pollen-robotics/pollen-vision.git@99-make-the-notebooks-runnable-on-google-colab->pollen-vision[vision]@ git+https://github.com/pollen-robotics/pollen-vision.git@99-make-the-notebooks-runnable-on-google-colab)\n",
      "  Using cached nvidia_nvtx_cu12-12.1.105-py3-none-manylinux1_x86_64.whl.metadata (1.7 kB)\n",
      "Collecting triton==2.2.0 (from torch->ram@ git+https://github.com/pollen-robotics/recognize-anything->pollen-vision@ git+https://github.com/pollen-robotics/pollen-vision.git@99-make-the-notebooks-runnable-on-google-colab->pollen-vision[vision]@ git+https://github.com/pollen-robotics/pollen-vision.git@99-make-the-notebooks-runnable-on-google-colab)\n",
      "  Using cached triton-2.2.0-cp310-cp310-manylinux_2_17_x86_64.manylinux2014_x86_64.whl.metadata (1.4 kB)\n",
      "Collecting nvidia-nvjitlink-cu12 (from nvidia-cusolver-cu12==11.4.5.107->torch->ram@ git+https://github.com/pollen-robotics/recognize-anything->pollen-vision@ git+https://github.com/pollen-robotics/pollen-vision.git@99-make-the-notebooks-runnable-on-google-colab->pollen-vision[vision]@ git+https://github.com/pollen-robotics/pollen-vision.git@99-make-the-notebooks-runnable-on-google-colab)\n",
      "  Using cached nvidia_nvjitlink_cu12-12.4.99-py3-none-manylinux2014_x86_64.whl.metadata (1.5 kB)\n",
      "Collecting ftfy (from clip@ git+https://github.com/openai/CLIP.git->ram@ git+https://github.com/pollen-robotics/recognize-anything->pollen-vision@ git+https://github.com/pollen-robotics/pollen-vision.git@99-make-the-notebooks-runnable-on-google-colab->pollen-vision[vision]@ git+https://github.com/pollen-robotics/pollen-vision.git@99-make-the-notebooks-runnable-on-google-colab)\n",
      "  Using cached ftfy-6.1.3-py3-none-any.whl.metadata (6.2 kB)\n",
      "Collecting python-dateutil>=2.8.2 (from pandas->datasets==2.18.0->pollen-vision@ git+https://github.com/pollen-robotics/pollen-vision.git@99-make-the-notebooks-runnable-on-google-colab->pollen-vision[vision]@ git+https://github.com/pollen-robotics/pollen-vision.git@99-make-the-notebooks-runnable-on-google-colab)\n",
      "  Using cached python_dateutil-2.9.0.post0-py2.py3-none-any.whl.metadata (8.4 kB)\n",
      "Collecting pytz>=2020.1 (from pandas->datasets==2.18.0->pollen-vision@ git+https://github.com/pollen-robotics/pollen-vision.git@99-make-the-notebooks-runnable-on-google-colab->pollen-vision[vision]@ git+https://github.com/pollen-robotics/pollen-vision.git@99-make-the-notebooks-runnable-on-google-colab)\n",
      "  Using cached pytz-2024.1-py2.py3-none-any.whl.metadata (22 kB)\n",
      "Collecting tzdata>=2022.7 (from pandas->datasets==2.18.0->pollen-vision@ git+https://github.com/pollen-robotics/pollen-vision.git@99-make-the-notebooks-runnable-on-google-colab->pollen-vision[vision]@ git+https://github.com/pollen-robotics/pollen-vision.git@99-make-the-notebooks-runnable-on-google-colab)\n",
      "  Using cached tzdata-2024.1-py2.py3-none-any.whl.metadata (1.4 kB)\n",
      "Collecting pycocotools>=2.0.2 (from pycocoevalcap->ram@ git+https://github.com/pollen-robotics/recognize-anything->pollen-vision@ git+https://github.com/pollen-robotics/pollen-vision.git@99-make-the-notebooks-runnable-on-google-colab->pollen-vision[vision]@ git+https://github.com/pollen-robotics/pollen-vision.git@99-make-the-notebooks-runnable-on-google-colab)\n",
      "  Using cached pycocotools-2.0.7-cp310-cp310-manylinux_2_17_x86_64.manylinux2014_x86_64.whl.metadata (1.1 kB)\n",
      "Collecting matplotlib>=2.1.0 (from pycocotools>=2.0.2->pycocoevalcap->ram@ git+https://github.com/pollen-robotics/recognize-anything->pollen-vision@ git+https://github.com/pollen-robotics/pollen-vision.git@99-make-the-notebooks-runnable-on-google-colab->pollen-vision[vision]@ git+https://github.com/pollen-robotics/pollen-vision.git@99-make-the-notebooks-runnable-on-google-colab)\n",
      "  Using cached matplotlib-3.8.3-cp310-cp310-manylinux_2_17_x86_64.manylinux2014_x86_64.whl.metadata (5.8 kB)\n",
      "Collecting six>=1.5 (from python-dateutil>=2.8.2->pandas->datasets==2.18.0->pollen-vision@ git+https://github.com/pollen-robotics/pollen-vision.git@99-make-the-notebooks-runnable-on-google-colab->pollen-vision[vision]@ git+https://github.com/pollen-robotics/pollen-vision.git@99-make-the-notebooks-runnable-on-google-colab)\n",
      "  Using cached six-1.16.0-py2.py3-none-any.whl.metadata (1.8 kB)\n",
      "Collecting wcwidth<0.3.0,>=0.2.12 (from ftfy->clip@ git+https://github.com/openai/CLIP.git->ram@ git+https://github.com/pollen-robotics/recognize-anything->pollen-vision@ git+https://github.com/pollen-robotics/pollen-vision.git@99-make-the-notebooks-runnable-on-google-colab->pollen-vision[vision]@ git+https://github.com/pollen-robotics/pollen-vision.git@99-make-the-notebooks-runnable-on-google-colab)\n",
      "  Using cached wcwidth-0.2.13-py2.py3-none-any.whl.metadata (14 kB)\n"
     ]
    },
    {
     "name": "stdout",
     "output_type": "stream",
     "text": [
      "Collecting MarkupSafe>=2.0 (from jinja2->torch->ram@ git+https://github.com/pollen-robotics/recognize-anything->pollen-vision@ git+https://github.com/pollen-robotics/pollen-vision.git@99-make-the-notebooks-runnable-on-google-colab->pollen-vision[vision]@ git+https://github.com/pollen-robotics/pollen-vision.git@99-make-the-notebooks-runnable-on-google-colab)\n",
      "  Using cached MarkupSafe-2.1.5-cp310-cp310-manylinux_2_17_x86_64.manylinux2014_x86_64.whl.metadata (3.0 kB)\n",
      "Collecting mpmath>=0.19 (from sympy->torch->ram@ git+https://github.com/pollen-robotics/recognize-anything->pollen-vision@ git+https://github.com/pollen-robotics/pollen-vision.git@99-make-the-notebooks-runnable-on-google-colab->pollen-vision[vision]@ git+https://github.com/pollen-robotics/pollen-vision.git@99-make-the-notebooks-runnable-on-google-colab)\n",
      "  Using cached mpmath-1.3.0-py3-none-any.whl.metadata (8.6 kB)\n",
      "Collecting contourpy>=1.0.1 (from matplotlib>=2.1.0->pycocotools>=2.0.2->pycocoevalcap->ram@ git+https://github.com/pollen-robotics/recognize-anything->pollen-vision@ git+https://github.com/pollen-robotics/pollen-vision.git@99-make-the-notebooks-runnable-on-google-colab->pollen-vision[vision]@ git+https://github.com/pollen-robotics/pollen-vision.git@99-make-the-notebooks-runnable-on-google-colab)\n",
      "  Using cached contourpy-1.2.0-cp310-cp310-manylinux_2_17_x86_64.manylinux2014_x86_64.whl.metadata (5.8 kB)\n",
      "Collecting cycler>=0.10 (from matplotlib>=2.1.0->pycocotools>=2.0.2->pycocoevalcap->ram@ git+https://github.com/pollen-robotics/recognize-anything->pollen-vision@ git+https://github.com/pollen-robotics/pollen-vision.git@99-make-the-notebooks-runnable-on-google-colab->pollen-vision[vision]@ git+https://github.com/pollen-robotics/pollen-vision.git@99-make-the-notebooks-runnable-on-google-colab)\n",
      "  Using cached cycler-0.12.1-py3-none-any.whl.metadata (3.8 kB)\n",
      "Collecting fonttools>=4.22.0 (from matplotlib>=2.1.0->pycocotools>=2.0.2->pycocoevalcap->ram@ git+https://github.com/pollen-robotics/recognize-anything->pollen-vision@ git+https://github.com/pollen-robotics/pollen-vision.git@99-make-the-notebooks-runnable-on-google-colab->pollen-vision[vision]@ git+https://github.com/pollen-robotics/pollen-vision.git@99-make-the-notebooks-runnable-on-google-colab)\n",
      "  Using cached fonttools-4.49.0-cp310-cp310-manylinux_2_17_x86_64.manylinux2014_x86_64.whl.metadata (159 kB)\n",
      "Collecting kiwisolver>=1.3.1 (from matplotlib>=2.1.0->pycocotools>=2.0.2->pycocoevalcap->ram@ git+https://github.com/pollen-robotics/recognize-anything->pollen-vision@ git+https://github.com/pollen-robotics/pollen-vision.git@99-make-the-notebooks-runnable-on-google-colab->pollen-vision[vision]@ git+https://github.com/pollen-robotics/pollen-vision.git@99-make-the-notebooks-runnable-on-google-colab)\n",
      "  Using cached kiwisolver-1.4.5-cp310-cp310-manylinux_2_12_x86_64.manylinux2010_x86_64.whl.metadata (6.4 kB)\n",
      "Collecting pyparsing>=2.3.1 (from matplotlib>=2.1.0->pycocotools>=2.0.2->pycocoevalcap->ram@ git+https://github.com/pollen-robotics/recognize-anything->pollen-vision@ git+https://github.com/pollen-robotics/pollen-vision.git@99-make-the-notebooks-runnable-on-google-colab->pollen-vision[vision]@ git+https://github.com/pollen-robotics/pollen-vision.git@99-make-the-notebooks-runnable-on-google-colab)\n",
      "  Using cached pyparsing-3.1.2-py3-none-any.whl.metadata (5.1 kB)\n",
      "Using cached numpy-1.25.1-cp310-cp310-manylinux_2_17_x86_64.manylinux2014_x86_64.whl (17.6 MB)\n",
      "Using cached openai-1.12.0-py3-none-any.whl (226 kB)\n",
      "Using cached opencv_contrib_python-4.8.0.74-cp37-abi3-manylinux_2_17_x86_64.manylinux2014_x86_64.whl (67.8 MB)\n",
      "Using cached datasets-2.18.0-py3-none-any.whl (510 kB)\n",
      "Using cached timm-0.4.12-py3-none-any.whl (376 kB)\n",
      "Using cached transformers-4.25.1-py3-none-any.whl (5.8 MB)\n",
      "Using cached anyio-4.3.0-py3-none-any.whl (85 kB)\n",
      "Using cached dill-0.3.8-py3-none-any.whl (116 kB)\n",
      "Using cached distro-1.9.0-py3-none-any.whl (20 kB)\n",
      "Using cached fsspec-2024.2.0-py3-none-any.whl (170 kB)\n",
      "Using cached aiohttp-3.9.3-cp310-cp310-manylinux_2_17_x86_64.manylinux2014_x86_64.whl (1.2 MB)\n",
      "Using cached httpx-0.27.0-py3-none-any.whl (75 kB)\n",
      "Using cached httpcore-1.0.4-py3-none-any.whl (77 kB)\n",
      "Using cached huggingface_hub-0.21.4-py3-none-any.whl (346 kB)\n",
      "Using cached packaging-24.0-py3-none-any.whl (53 kB)\n",
      "Using cached pyarrow-15.0.1-cp310-cp310-manylinux_2_28_x86_64.whl (38.3 MB)\n",
      "Downloading pydantic-2.6.4-py3-none-any.whl (394 kB)\n",
      "\u001b[2K   \u001b[38;2;114;156;31m━━━━━━━━━━━━━━━━━━━━━━━━━━━━━━━━━━━━━━━━\u001b[0m \u001b[32m394.9/394.9 kB\u001b[0m \u001b[31m5.9 MB/s\u001b[0m eta \u001b[36m0:00:00\u001b[0m6 MB/s\u001b[0m eta \u001b[36m0:00:01\u001b[0m\n",
      "\u001b[?25hUsing cached pydantic_core-2.16.3-cp310-cp310-manylinux_2_17_x86_64.manylinux2014_x86_64.whl (2.2 MB)\n",
      "Using cached PyYAML-6.0.1-cp310-cp310-manylinux_2_17_x86_64.manylinux2014_x86_64.whl (705 kB)\n",
      "Using cached requests-2.31.0-py3-none-any.whl (62 kB)\n",
      "Using cached sniffio-1.3.1-py3-none-any.whl (10 kB)\n",
      "Using cached torch-2.2.1-cp310-cp310-manylinux1_x86_64.whl (755.5 MB)\n",
      "Using cached nvidia_cublas_cu12-12.1.3.1-py3-none-manylinux1_x86_64.whl (410.6 MB)\n",
      "Using cached nvidia_cuda_cupti_cu12-12.1.105-py3-none-manylinux1_x86_64.whl (14.1 MB)\n",
      "Using cached nvidia_cuda_nvrtc_cu12-12.1.105-py3-none-manylinux1_x86_64.whl (23.7 MB)\n",
      "Using cached nvidia_cuda_runtime_cu12-12.1.105-py3-none-manylinux1_x86_64.whl (823 kB)\n",
      "Using cached nvidia_cudnn_cu12-8.9.2.26-py3-none-manylinux1_x86_64.whl (731.7 MB)\n",
      "Using cached nvidia_cufft_cu12-11.0.2.54-py3-none-manylinux1_x86_64.whl (121.6 MB)\n",
      "Using cached nvidia_curand_cu12-10.3.2.106-py3-none-manylinux1_x86_64.whl (56.5 MB)\n",
      "Using cached nvidia_cusolver_cu12-11.4.5.107-py3-none-manylinux1_x86_64.whl (124.2 MB)\n",
      "Using cached nvidia_cusparse_cu12-12.1.0.106-py3-none-manylinux1_x86_64.whl (196.0 MB)\n",
      "Using cached nvidia_nccl_cu12-2.19.3-py3-none-manylinux1_x86_64.whl (166.0 MB)\n",
      "Using cached nvidia_nvtx_cu12-12.1.105-py3-none-manylinux1_x86_64.whl (99 kB)\n",
      "Using cached triton-2.2.0-cp310-cp310-manylinux_2_17_x86_64.manylinux2014_x86_64.whl (167.9 MB)\n",
      "Using cached tqdm-4.66.2-py3-none-any.whl (78 kB)\n",
      "Using cached typing_extensions-4.10.0-py3-none-any.whl (33 kB)\n",
      "Using cached filelock-3.13.1-py3-none-any.whl (11 kB)\n",
      "Using cached multiprocess-0.70.16-py310-none-any.whl (134 kB)\n",
      "Using cached pandas-2.2.1-cp310-cp310-manylinux_2_17_x86_64.manylinux2014_x86_64.whl (13.0 MB)\n",
      "Using cached pillow-10.2.0-cp310-cp310-manylinux_2_28_x86_64.whl (4.5 MB)\n",
      "Using cached pyarrow_hotfix-0.6-py3-none-any.whl (7.9 kB)\n",
      "Using cached pycocoevalcap-1.2-py3-none-any.whl (104.3 MB)\n",
      "Using cached scipy-1.12.0-cp310-cp310-manylinux_2_17_x86_64.manylinux2014_x86_64.whl (38.4 MB)\n",
      "Using cached torchvision-0.17.1-cp310-cp310-manylinux1_x86_64.whl (6.9 MB)\n",
      "Using cached xxhash-3.4.1-cp310-cp310-manylinux_2_17_x86_64.manylinux2014_x86_64.whl (194 kB)\n",
      "Using cached aiosignal-1.3.1-py3-none-any.whl (7.6 kB)\n",
      "Using cached annotated_types-0.6.0-py3-none-any.whl (12 kB)\n",
      "Using cached async_timeout-4.0.3-py3-none-any.whl (5.7 kB)\n",
      "Using cached attrs-23.2.0-py3-none-any.whl (60 kB)\n",
      "Using cached certifi-2024.2.2-py3-none-any.whl (163 kB)\n",
      "Using cached charset_normalizer-3.3.2-cp310-cp310-manylinux_2_17_x86_64.manylinux2014_x86_64.whl (142 kB)\n",
      "Using cached exceptiongroup-1.2.0-py3-none-any.whl (16 kB)\n",
      "Using cached frozenlist-1.4.1-cp310-cp310-manylinux_2_5_x86_64.manylinux1_x86_64.manylinux_2_17_x86_64.manylinux2014_x86_64.whl (239 kB)\n",
      "Using cached idna-3.6-py3-none-any.whl (61 kB)\n",
      "Using cached multidict-6.0.5-cp310-cp310-manylinux_2_17_x86_64.manylinux2014_x86_64.whl (124 kB)\n",
      "Using cached pycocotools-2.0.7-cp310-cp310-manylinux_2_17_x86_64.manylinux2014_x86_64.whl (426 kB)\n",
      "Using cached python_dateutil-2.9.0.post0-py2.py3-none-any.whl (229 kB)\n",
      "Using cached pytz-2024.1-py2.py3-none-any.whl (505 kB)\n",
      "Using cached regex-2023.12.25-cp310-cp310-manylinux_2_17_x86_64.manylinux2014_x86_64.whl (773 kB)\n",
      "Using cached tokenizers-0.13.3-cp310-cp310-manylinux_2_17_x86_64.manylinux2014_x86_64.whl (7.8 MB)\n",
      "Using cached tzdata-2024.1-py2.py3-none-any.whl (345 kB)\n",
      "Using cached urllib3-2.2.1-py3-none-any.whl (121 kB)\n",
      "Using cached yarl-1.9.4-cp310-cp310-manylinux_2_17_x86_64.manylinux2014_x86_64.whl (301 kB)\n",
      "Using cached ftfy-6.1.3-py3-none-any.whl (53 kB)\n",
      "Using cached Jinja2-3.1.3-py3-none-any.whl (133 kB)\n",
      "Using cached networkx-3.2.1-py3-none-any.whl (1.6 MB)\n"
     ]
    },
    {
     "name": "stdout",
     "output_type": "stream",
     "text": [
      "Using cached sympy-1.12-py3-none-any.whl (5.7 MB)\n",
      "Using cached h11-0.14.0-py3-none-any.whl (58 kB)\n",
      "Using cached MarkupSafe-2.1.5-cp310-cp310-manylinux_2_17_x86_64.manylinux2014_x86_64.whl (25 kB)\n",
      "Using cached matplotlib-3.8.3-cp310-cp310-manylinux_2_17_x86_64.manylinux2014_x86_64.whl (11.6 MB)\n",
      "Using cached mpmath-1.3.0-py3-none-any.whl (536 kB)\n",
      "Using cached six-1.16.0-py2.py3-none-any.whl (11 kB)\n",
      "Using cached wcwidth-0.2.13-py2.py3-none-any.whl (34 kB)\n",
      "Using cached nvidia_nvjitlink_cu12-12.4.99-py3-none-manylinux2014_x86_64.whl (21.1 MB)\n",
      "Using cached contourpy-1.2.0-cp310-cp310-manylinux_2_17_x86_64.manylinux2014_x86_64.whl (310 kB)\n",
      "Using cached cycler-0.12.1-py3-none-any.whl (8.3 kB)\n",
      "Using cached fonttools-4.49.0-cp310-cp310-manylinux_2_17_x86_64.manylinux2014_x86_64.whl (4.6 MB)\n",
      "Using cached kiwisolver-1.4.5-cp310-cp310-manylinux_2_12_x86_64.manylinux2010_x86_64.whl (1.6 MB)\n",
      "Using cached pyparsing-3.1.2-py3-none-any.whl (103 kB)\n",
      "Building wheels for collected packages: pollen-vision, mobile-sam, ram, clip\n",
      "  Building wheel for pollen-vision (pyproject.toml) ... \u001b[?25ldone\n",
      "\u001b[?25h  Created wheel for pollen-vision: filename=pollen_vision-1.1.0-py3-none-any.whl size=37782391 sha256=b96b64098832238df775a791210347c2a289ed7d428e80adf856d5d41fb02d3f\n",
      "  Stored in directory: /tmp/pip-ephem-wheel-cache-bed3of2w/wheels/c3/74/a1/6b15cc754eb9c49deab9a66287ffcf510a100855648f30e9b1\n",
      "  Building wheel for mobile-sam (setup.py) ... \u001b[?25ldone\n",
      "\u001b[?25h  Created wheel for mobile-sam: filename=mobile_sam-1.0-py3-none-any.whl size=42434 sha256=1378e43b6cd33c4461234aee1ed3f452321c6bc6d8b1c7bf2ca3a752a474595b\n",
      "  Stored in directory: /tmp/pip-ephem-wheel-cache-bed3of2w/wheels/3e/73/b8/7c1eb7f84c1c90b43976ea84599be7a420e0fe1f2c26a2a6b7\n",
      "  Building wheel for ram (setup.py) ... \u001b[?25ldone\n",
      "\u001b[?25h  Created wheel for ram: filename=ram-0.0.1-py3-none-any.whl size=128589 sha256=76a91da3d11aa25eec958a332e437bcb1a5144034318b9770d79d027a8031d38\n",
      "  Stored in directory: /tmp/pip-ephem-wheel-cache-bed3of2w/wheels/f5/f3/c6/31dc89cf6cb17f2100ecbae2d14525225a58d3a98d0b06fa96\n",
      "  Building wheel for clip (setup.py) ... \u001b[?25ldone\n",
      "\u001b[?25h  Created wheel for clip: filename=clip-1.0-py3-none-any.whl size=1369497 sha256=c08b3e575aee31da6bc76410d1b1eef2f8f36fb956bcd76cff12095463b67462\n",
      "  Stored in directory: /tmp/pip-ephem-wheel-cache-bed3of2w/wheels/da/2b/4c/d6691fa9597aac8bb85d2ac13b112deb897d5b50f5ad9a37e4\n",
      "Successfully built pollen-vision mobile-sam ram clip\n",
      "Installing collected packages: wcwidth, tokenizers, pytz, mpmath, mobile-sam, xxhash, urllib3, tzdata, typing-extensions, tqdm, sympy, sniffio, six, regex, pyyaml, pyparsing, pyarrow-hotfix, Pillow, packaging, nvidia-nvtx-cu12, nvidia-nvjitlink-cu12, nvidia-nccl-cu12, nvidia-curand-cu12, nvidia-cufft-cu12, nvidia-cuda-runtime-cu12, nvidia-cuda-nvrtc-cu12, nvidia-cuda-cupti-cu12, nvidia-cublas-cu12, numpy, networkx, multidict, MarkupSafe, kiwisolver, idna, h11, ftfy, fsspec, frozenlist, fonttools, filelock, exceptiongroup, distro, dill, cycler, charset-normalizer, certifi, attrs, async-timeout, annotated-types, yarl, triton, scipy, requests, python-dateutil, pydantic-core, pyarrow, opencv-contrib-python, nvidia-cusparse-cu12, nvidia-cudnn-cu12, multiprocess, jinja2, httpcore, contourpy, anyio, aiosignal, pydantic, pandas, nvidia-cusolver-cu12, matplotlib, huggingface-hub, httpx, aiohttp, transformers, torch, pycocotools, openai, torchvision, pycocoevalcap, pollen-vision, fairscale, datasets, timm, clip, ram\n",
      "\u001b[31mERROR: pip's dependency resolver does not currently take into account all the packages that are installed. This behaviour is the source of the following dependency conflicts.\n",
      "generate-parameter-library-py 0.3.1 requires typeguard, which is not installed.\u001b[0m\u001b[31m\n",
      "\u001b[0mSuccessfully installed MarkupSafe-2.1.5 Pillow-10.2.0 aiohttp-3.9.3 aiosignal-1.3.1 annotated-types-0.6.0 anyio-4.3.0 async-timeout-4.0.3 attrs-23.2.0 certifi-2024.2.2 charset-normalizer-3.3.2 clip-1.0 contourpy-1.2.0 cycler-0.12.1 datasets-2.18.0 dill-0.3.8 distro-1.9.0 exceptiongroup-1.2.0 fairscale-0.4.4 filelock-3.13.1 fonttools-4.49.0 frozenlist-1.4.1 fsspec-2024.2.0 ftfy-6.1.3 h11-0.14.0 httpcore-1.0.4 httpx-0.27.0 huggingface-hub-0.21.4 idna-3.6 jinja2-3.1.3 kiwisolver-1.4.5 matplotlib-3.8.3 mobile-sam-1.0 mpmath-1.3.0 multidict-6.0.5 multiprocess-0.70.16 networkx-3.2.1 numpy-1.25.1 nvidia-cublas-cu12-12.1.3.1 nvidia-cuda-cupti-cu12-12.1.105 nvidia-cuda-nvrtc-cu12-12.1.105 nvidia-cuda-runtime-cu12-12.1.105 nvidia-cudnn-cu12-8.9.2.26 nvidia-cufft-cu12-11.0.2.54 nvidia-curand-cu12-10.3.2.106 nvidia-cusolver-cu12-11.4.5.107 nvidia-cusparse-cu12-12.1.0.106 nvidia-nccl-cu12-2.19.3 nvidia-nvjitlink-cu12-12.4.99 nvidia-nvtx-cu12-12.1.105 openai-1.12.0 opencv-contrib-python-4.8.0.74 packaging-24.0 pandas-2.2.1 pollen-vision-1.1.0 pyarrow-15.0.1 pyarrow-hotfix-0.6 pycocoevalcap-1.2 pycocotools-2.0.7 pydantic-2.6.4 pydantic-core-2.16.3 pyparsing-3.1.2 python-dateutil-2.9.0.post0 pytz-2024.1 pyyaml-6.0.1 ram-0.0.1 regex-2023.12.25 requests-2.31.0 scipy-1.12.0 six-1.16.0 sniffio-1.3.1 sympy-1.12 timm-0.4.12 tokenizers-0.13.3 torch-2.2.1 torchvision-0.17.1 tqdm-4.66.2 transformers-4.25.1 triton-2.2.0 typing-extensions-4.10.0 tzdata-2024.1 urllib3-2.2.1 wcwidth-0.2.13 xxhash-3.4.1 yarl-1.9.4\n",
      "^C\n"
     ]
    }
   ],
   "source": [
    "!pip install \"pollen-vision[vision] @ git+https://github.com/pollen-robotics/pollen-vision.git@99-make-the-notebooks-runnable-on-google-colab\""
   ]
  },
  {
   "cell_type": "markdown",
   "id": "ce010bf4",
   "metadata": {},
   "source": [
    "## Use OWL-ViT\n",
    "\n",
    "Let's use the OwlViT wrapper to perform zero shot object detection."
   ]
  },
  {
   "cell_type": "code",
   "execution_count": null,
   "id": "8d007292-0b1f-41db-899a-6bcbf1a65449",
   "metadata": {},
   "outputs": [],
   "source": [
    "import numpy as np\n",
    "from PIL import Image\n",
    "\n",
    "from pollen_vision.vision_models.object_detection import OwlVitWrapper"
   ]
  },
  {
   "cell_type": "code",
   "execution_count": null,
   "id": "0f8e4188-581f-479d-8594-136226a75d83",
   "metadata": {},
   "outputs": [],
   "source": [
    "object_detection_wrapper = OwlVitWrapper()"
   ]
  },
  {
   "cell_type": "markdown",
   "id": "3e449d38-8cf3-42c6-a76d-4c6b83bedce5",
   "metadata": {},
   "source": [
    "## Import example image\n",
    "\n",
    "Here we will import an example image to test the OwlViT wrapper. We will use an image from the [reachy-doing-things image dataset](https://huggingface.co/datasets/pollen-robotics/reachy-doing-things) available on Hugging Face. In this dataset, we captured images from an egocentric view of Reachy doing manipulation tasks while being teleoperated.\n",
    "\n",
    "Feel fry to try the object detection with your own image instead!"
   ]
  },
  {
   "cell_type": "code",
   "execution_count": null,
   "id": "7e0551d1",
   "metadata": {},
   "outputs": [],
   "source": [
    "from datasets import load_dataset\n",
    "\n",
    "dataset = load_dataset(\"pollen-robotics/reachy-doing-things\", split=\"train\")\n",
    "\n",
    "img = dataset[11]['image']\n",
    "img"
   ]
  },
  {
   "cell_type": "markdown",
   "id": "5afac224-c67c-4258-b0b1-a5a02332249e",
   "metadata": {},
   "source": [
    "## Run inference with the model\n",
    "\n",
    "As explained, the OWL-ViT model is a zero shot object detection model and takes text queries as input. The inference is performed with the *infer* method. Just pass as argument a list of the candidate for the object detection that you want to detect. OWL-ViT will only try to detect classes that are in the list.\n",
    "\n",
    "NB: Please note that the image passed as argument for the *infer* method must be a **numpy array object**."
   ]
  },
  {
   "cell_type": "code",
   "execution_count": null,
   "id": "766be514-3453-4b0e-8baa-f2315e39eca1",
   "metadata": {},
   "outputs": [],
   "source": [
    "predictions = object_detection_wrapper.infer(\n",
    "    im=np.array(img),\n",
    "    candidate_labels=[\"kettle\", \"black mug\", \"sink\", \"blue mug\", \"sponge\", \"bag of chips\"],\n",
    "    detection_threshold=0.15,\n",
    ")\n",
    "\n",
    "predictions"
   ]
  },
  {
   "cell_type": "markdown",
   "id": "3238f284-6683-4d33-9bd2-efb4278197cd",
   "metadata": {},
   "source": [
    "Change the candidates list and check what you can detect!"
   ]
  },
  {
   "cell_type": "markdown",
   "id": "c02a3b13-fd0c-47cd-96c0-0b07c1301cde",
   "metadata": {},
   "source": [
    "### Visualize detection results\n",
    "\n",
    "You can visualize easliy the predictions of the model with the *Annotator* class from utils."
   ]
  },
  {
   "cell_type": "code",
   "execution_count": null,
   "id": "81e164bd-1aa5-4764-bbf1-dcd7fa995e19",
   "metadata": {},
   "outputs": [],
   "source": [
    "from pollen_vision.vision_models.utils import Annotator"
   ]
  },
  {
   "cell_type": "code",
   "execution_count": null,
   "id": "79cf2daf-b161-41f1-a279-21eab2c5b5a7",
   "metadata": {},
   "outputs": [],
   "source": [
    "annotator = Annotator()\n",
    "\n",
    "img_annotated = annotator.annotate(im=np.array(img), detection_predictions=predictions)\n",
    "Image.fromarray(img_annotated)  # annotator returns a numpy array object"
   ]
  },
  {
   "cell_type": "markdown",
   "id": "6e3eec07-521f-4301-9757-9f3a89710e8b",
   "metadata": {},
   "source": [
    "## Final notes\n",
    "\n",
    "That's all folks! You can use [this script](https://github.com/pollen-robotics/pollen-vision/blob/99-make-the-notebooks-runnable-on-google-colab/scripts/annotate_video.py) if you want to perform zero shot object detection on a recorded video. The scripts gathers every commands that you saw here in the notebook.\n",
    "\n",
    "Check out the [other notebooks](https://drive.google.com/drive/folders/1Xx42Pk4exkS95iyD-5arHIYQLXyRWTXw?usp=drive_link) if you want to learn how to use other vision models like RAM for image tagging or SAM to perform object segmentation."
   ]
  }
 ],
 "metadata": {
  "kernelspec": {
   "display_name": "Python 3 (ipykernel)",
   "language": "python",
   "name": "python3"
  },
  "language_info": {
   "codemirror_mode": {
    "name": "ipython",
    "version": 3
   },
   "file_extension": ".py",
   "mimetype": "text/x-python",
   "name": "python",
   "nbconvert_exporter": "python",
   "pygments_lexer": "ipython3",
   "version": "3.10.12"
  }
 },
 "nbformat": 4,
 "nbformat_minor": 5
}
